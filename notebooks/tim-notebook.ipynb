{
 "cells": [
  {
   "cell_type": "code",
   "execution_count": null,
   "id": "9c349aa3",
   "metadata": {},
   "outputs": [
    {
     "data": {
      "text/plain": [
       "{'projects': [{'id': 'd6bf3609-2194-4f1b-8f20-d3ba3b7d5bda',\n",
       "   'title': {'de': 'SA-Datennetze',\n",
       "    'en': None,\n",
       "    'fr': 'SA-Datennetze',\n",
       "    'it': None},\n",
       "   'projectNumber': '12242',\n",
       "   'projectType': 'tender',\n",
       "   'projectSubType': 'supply',\n",
       "   'processType': 'open',\n",
       "   'lotsType': 'without',\n",
       "   'publicationId': 'a210be4f-8120-4a37-82cb-29f9f097115f',\n",
       "   'publicationDate': '2025-09-05',\n",
       "   'publicationNumber': '12242-06',\n",
       "   'pubType': 'award',\n",
       "   'corrected': False,\n",
       "   'procOfficeName': {'de': 'BLS AG - Finance & SCM - Strategische Beschaffung',\n",
       "    'en': None,\n",
       "    'fr': 'BLS AG - Finance & SCM - Strategische Beschaffung',\n",
       "    'it': None},\n",
       "   'lots': [],\n",
       "   'orderAddressOnlyDescription': 'no',\n",
       "   'orderAddress': {'countryId': 'CH',\n",
       "    'cantonId': 'BE',\n",
       "    'postalCode': '3001',\n",
       "    'city': {'de': 'Bern', 'en': None, 'fr': 'Berne', 'it': None}}},\n",
       "  {'id': '2f2f5039-3e20-4b45-8e6a-8e9c05865896',\n",
       "   'title': {'de': None,\n",
       "    'en': None,\n",
       "    'fr': '100008.20 - SGE Cantonal - Lot A2 - Fourniture et administration HCI - Logiciel NMS',\n",
       "    'it': None},\n",
       "   'projectNumber': '13201',\n",
       "   'projectType': 'tender',\n",
       "   'projectSubType': 'construction',\n",
       "   'processType': 'open',\n",
       "   'lotsType': 'without',\n",
       "   'publicationId': '0c6b9edb-7ffc-43f4-b1d8-8d5944de219f',\n",
       "   'publicationDate': '2025-03-21',\n",
       "   'publicationNumber': '13201-01',\n",
       "   'pubType': 'tender',\n",
       "   'corrected': False,\n",
       "   'procOfficeName': {'de': None,\n",
       "    'en': None,\n",
       "    'fr': 'Service des ponts et chaussées',\n",
       "    'it': None},\n",
       "   'lots': [],\n",
       "   'orderAddressOnlyDescription': 'yes',\n",
       "   'orderAddress': {'countryId': 'CH',\n",
       "    'cantonId': None,\n",
       "    'postalCode': None,\n",
       "    'city': None}},\n",
       "  {'id': 'c9bfd696-e599-4f80-905d-54f043889474',\n",
       "   'title': {'de': 'N16.02 210016 BSA Tunnels Perche, Banné, TC Beuchille - Assainissement système de gestion tunnel de Perche Banné et Beuchille - ID 9314',\n",
       "    'en': None,\n",
       "    'fr': 'N16.02 210016 BSA Tunnels Perche, Banné, TC Beuchille - Assainissement système de gestion tunnel de Perche Banné et Beuchille - ID 9314',\n",
       "    'it': None},\n",
       "   'projectNumber': '1961',\n",
       "   'projectType': 'tender',\n",
       "   'projectSubType': 'service',\n",
       "   'processType': 'direct',\n",
       "   'lotsType': 'without',\n",
       "   'publicationId': '47249727-8509-4fbd-8613-7c503cd152d1',\n",
       "   'publicationDate': '2024-08-01',\n",
       "   'publicationNumber': '1961-01',\n",
       "   'pubType': 'direct_award',\n",
       "   'corrected': False,\n",
       "   'procOfficeName': {'de': 'Office fédéral des routes OFROU, Division Infrastructure routière Ouest, filiale Estavayer-le-Lac',\n",
       "    'en': None,\n",
       "    'fr': 'Office fédéral des routes OFROU, Division Infrastructure routière Ouest, filiale Estavayer-le-Lac',\n",
       "    'it': None},\n",
       "   'lots': [],\n",
       "   'orderAddressOnlyDescription': None,\n",
       "   'orderAddress': {'countryId': None,\n",
       "    'cantonId': None,\n",
       "    'postalCode': None,\n",
       "    'city': None}}],\n",
       " 'pagination': {'lastItem': '20240801|1961', 'itemsPerPage': 20}}"
      ]
     },
     "execution_count": 35,
     "metadata": {},
     "output_type": "execute_result"
    }
   ],
   "source": [
    "\n"
   ]
  }
 ],
 "metadata": {
  "language_info": {
   "name": "python"
  }
 },
 "nbformat": 4,
 "nbformat_minor": 5
}
