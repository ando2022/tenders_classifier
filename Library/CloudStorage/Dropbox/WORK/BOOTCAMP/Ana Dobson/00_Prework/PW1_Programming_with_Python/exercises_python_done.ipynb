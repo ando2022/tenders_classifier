{
 "cells": [
  {
   "cell_type": "markdown",
   "metadata": {},
   "source": [
    "<center><img src=https://lh3.googleusercontent.com/d/1EmH3Jks5CpJy0zK3JbkvJZkeqWtVcxhB width=600></center>\n",
    "\n",
    "# Programming in Python\n",
    "\n",
    "This series of exercises will help you gain more confidence with your coding and help solidify the needed basic skills. You can download this notebook (from top-left of this page) and perform your exercises directly here. \n",
    "\n",
    "Recommendations:\n",
    "\n",
    "- Start simple. Solve the problem for the simplest scenario and then slowly progress to the harder ones.\n",
    "- Solve each scenario one at a time.\n",
    "- Don't think of the most complicated solution from the beginning, you can always refactor your code after you've solved the problem.\n",
    "- Go through the [Python fundamentals](../../python/notebooks/python-intro.ipynb) before starting this exercise. \n",
    "\n"
   ]
  },
  {
   "cell_type": "markdown",
   "metadata": {},
   "source": [
    "## 1. String Checker\n",
    "\n",
    "Create a function `is_string()` that returns `true` when the parameter passed is a string and `false` otherwise.\n",
    "\n",
    "```python\n",
    "print(is_string('hello'))                    # True\n",
    "print(is_string(['hello']))                  # False\n",
    "print(is_string('this is a long sentence'))  # True\n",
    "```\n"
   ]
  },
  {
   "cell_type": "code",
   "execution_count": 2,
   "metadata": {},
   "outputs": [
    {
     "name": "stdout",
     "output_type": "stream",
     "text": [
      "True\n",
      "False\n",
      "True\n"
     ]
    }
   ],
   "source": [
    "def is_string(text):\n",
    "    return type(text) == str\n",
    "\n",
    "print(is_string(\"hello\"))\n",
    "print(is_string([\"hello\"]))\n",
    "print(is_string(\"this is a long sentence\"))"
   ]
  },
  {
   "cell_type": "markdown",
   "metadata": {},
   "source": [
    "## 2. Spaces & Digits\n",
    "\n",
    "Based on the `is_string` function, create another function `is_only_string` that checks if the argument contains spaces and digits. If the argument contains spaces and digits return `false`, if not return `true`.\n",
    "\n",
    "```python\n",
    "print(is_only_string('11'))                       # False\n",
    "print(is_only_string('hello'))                    # True\n",
    "print(is_only_string('this is a long sentence'))  # False\n",
    "```\n"
   ]
  },
  {
   "cell_type": "code",
   "execution_count": 11,
   "metadata": {},
   "outputs": [
    {
     "name": "stdout",
     "output_type": "stream",
     "text": [
      "False\n",
      "True\n",
      "False\n"
     ]
    }
   ],
   "source": [
    "def is_only_string(text):\n",
    "    return is_string(text) and text.isalpha()\n",
    "    \n",
    "\n",
    "print(is_only_string('11'))\n",
    "print(is_only_string('hello'))\n",
    "print(is_only_string('this is a long sentence'))\n"
   ]
  },
  {
   "cell_type": "markdown",
   "metadata": {},
   "source": [
    "## 3. Number yooo?\n",
    "\n",
    "Create a new function `is_alphanumeric` that returns `true` if all characters in the string are alphanumeric and is not an empty string, `false` otherwise.\n",
    "\n",
    "```python\n",
    "print(is_alphanumeric('11'))                       # True\n",
    "print(is_alphanumeric(['hello']))                  # False\n",
    "print(is_alphanumeric('this is a long sentence'))  # False\n",
    "print(is_alphanumeric(\"this is string....!!!\"))    # False\n",
    "```\n"
   ]
  },
  {
   "cell_type": "code",
   "execution_count": 21,
   "metadata": {},
   "outputs": [
    {
     "name": "stdout",
     "output_type": "stream",
     "text": [
      "True\n",
      "False\n",
      "False\n",
      "False\n"
     ]
    }
   ],
   "source": [
    "def is_alphanumeric(text):\n",
    "    return is_string(text) and text.isalnum() and len(text) > 0\n",
    "\n",
    "print(is_alphanumeric('11'))\n",
    "print(is_alphanumeric(['hello']))\n",
    "print(is_alphanumeric('this is a long sentence'))\n",
    "print(is_alphanumeric(\"this is string...!!!\"))"
   ]
  },
  {
   "cell_type": "markdown",
   "metadata": {},
   "source": [
    "## 4. Same Type\n",
    "\n",
    "Create a function that checks whether all the element of a list are the same data type. If they are the same return `true` otherwise return `false`.\n",
    "\n",
    "```python\n",
    "print(are_same_type(['hello', 'world', 'long sentence']))  # True\n",
    "print(are_same_type([1, 2, 9, 10]))                        # True\n",
    "print(are_same_type([1, 2, 9, 'hello']))                   # False\n",
    "```\n",
    "\n"
   ]
  },
  {
   "cell_type": "code",
   "execution_count": 35,
   "metadata": {},
   "outputs": [
    {
     "name": "stdout",
     "output_type": "stream",
     "text": [
      "True\n",
      "True\n",
      "False\n"
     ]
    }
   ],
   "source": [
    "def same_type(text):\n",
    "    return all(isinstance(item, type(text[0])) for item in text)\n",
    "\n",
    "print(same_type(['hello', 'world', 'long sentence']))\n",
    "print(same_type([1,2,9,10]))\n",
    "print(same_type([1,2,9,'hello']))"
   ]
  },
  {
   "cell_type": "markdown",
   "metadata": {},
   "source": [
    "## 5. Sort and Remove Duplicates\n",
    "\n",
    "You are given 2 strings, a and b, that only includes letters from a to z. Create a function which returns a new string that only contains each letter from a and/or b once. Your output must be sorted.\n",
    "\n",
    "```python\n",
    "a = 'xyaabbbccccdefww'\n",
    "b = 'xxxxyyyyabklmopq'\n",
    "x = 'abcdefghijklmnopqrstuvwxyz'\n",
    "print(intersection(a, b))  # abcdefklmopqwxy\n",
    "print(intersection(a, x))  # abcdefghijklmnopqrstuvwxyz\n",
    "```\n"
   ]
  },
  {
   "cell_type": "code",
   "execution_count": 39,
   "metadata": {},
   "outputs": [
    {
     "name": "stdout",
     "output_type": "stream",
     "text": [
      "abcdefklmopqwxy\n",
      "abcdefghijklmnopqrstuvwxyz\n"
     ]
    }
   ],
   "source": [
    "def intersection(a, b):\n",
    "    return ''.join(sorted(set(a+b)))\n",
    "\n",
    "a = 'xyaabbbccccdefww'\n",
    "b = 'xxxxyyyyabklmopq'\n",
    "x = 'abcdefghijklmnopqrstuvwxyz'\n",
    "\n",
    "print(intersection(a, b))  # abcdefklmopqwxy\n",
    "print(intersection(a, x))  # abcdefghijklmnopqrstuvwxyz\n",
    "\n"
   ]
  },
  {
   "cell_type": "markdown",
   "metadata": {},
   "source": [
    "## 6. Digits Converter\n",
    "\n",
    "Create a function that takes a random number and converts it to a reverse-sorted list of digits.\n",
    "\n",
    "```python\n",
    "print(convert(429563))  # [9, 6, 5, 4, 3, 2]\n",
    "print(convert(324))     # [4, 3, 2]\n",
    "```\n"
   ]
  },
  {
   "cell_type": "code",
   "execution_count": 41,
   "metadata": {},
   "outputs": [
    {
     "name": "stdout",
     "output_type": "stream",
     "text": [
      "['9', '6', '5', '4', '3', '2']\n",
      "['4', '3', '2']\n"
     ]
    }
   ],
   "source": [
    "def convert(text):\n",
    "    return sorted(str(text), reverse=True)\n",
    "\n",
    "\n",
    "print(convert(429563))\n",
    "print(convert(324))"
   ]
  },
  {
   "cell_type": "markdown",
   "metadata": {},
   "source": [
    "## 7. Count Repetitions!\n",
    "\n",
    "You are given a list of strings. Create a function that counts the number of times each string occurs and keeps track of it in a dict. DO NOT USE `COUNTER` from `Collections` module (that would be cheating 😁)\n",
    "\n",
    "```python\n",
    "names = ['kerouac', 'fante', 'fante', 'buk', 'hemingway', 'hornby', 'kerouac', 'buk', 'fante']\n",
    "print(count_repetition(names))\n",
    "\n",
    "# 'kerouac'= 2\n",
    "# 'fante'= 3\n",
    "# 'buk'= 2\n",
    "# 'hemingway'= 1\n",
    "# 'hornby'= 1}\n",
    "\n",
    "```"
   ]
  },
  {
   "cell_type": "code",
   "execution_count": 42,
   "metadata": {},
   "outputs": [
    {
     "name": "stdout",
     "output_type": "stream",
     "text": [
      "{'kerouac': 2, 'fante': 3, 'buk': 2, 'hemingway': 1, 'hornby': 1}\n"
     ]
    }
   ],
   "source": [
    "def count_repetition(text):\n",
    "    return {i: text.count(i) for i in text}\n",
    "\n",
    "names = ['kerouac', 'fante', 'fante', 'buk', 'hemingway', 'hornby', 'kerouac', 'buk', 'fante']\n",
    "print(count_repetition(names))\n",
    "\n",
    "# 'kerouac'= 2\n",
    "# 'fante'= 3\n",
    "# 'buk'= 2\n",
    "# 'hemingway'= 1\n",
    "# 'hornby'= 1}"
   ]
  },
  {
   "cell_type": "markdown",
   "metadata": {},
   "source": [
    "## 8. Letter Counter\n",
    "\n",
    "Write a function that accepts a sentence and calculates the number of upper case letters and lower case letters. Use the input function providing the sentence from the console.\n",
    "\n",
    "```python\n",
    "letter_counter()\n",
    "\n",
    "# Hello World!\n",
    "# UPPER CASE 2\n",
    "# LOWER CASE 8\n",
    "```\n"
   ]
  },
  {
   "cell_type": "code",
   "execution_count": 3,
   "metadata": {},
   "outputs": [
    {
     "name": "stdout",
     "output_type": "stream",
     "text": [
      "UPPER CASE 2\n",
      "LOWER CASE 8\n"
     ]
    }
   ],
   "source": [
    "def letter_counter(sentence):\n",
    "    #sentence = input(\"Enter a sentence: \")\n",
    "\n",
    "    upper_count = 0\n",
    "    lower_count = 0\n",
    "\n",
    "    for char in sentence:\n",
    "        if char.isupper():\n",
    "            upper_count += 1\n",
    "        elif char.islower():\n",
    "            lower_count += 1\n",
    "\n",
    "    print(\"UPPER CASE\", upper_count)\n",
    "    print(\"LOWER CASE\", lower_count)\n",
    "\n",
    "letter_counter(\"Hello World!\")"
   ]
  },
  {
   "cell_type": "code",
   "execution_count": null,
   "metadata": {},
   "outputs": [],
   "source": []
  },
  {
   "cell_type": "markdown",
   "metadata": {},
   "source": [
    "## 9. Permutations\n",
    "\n",
    "Create a function which returns all possible permutations from a given collection of distinct numbers\n",
    "\n",
    "**Note**: \n",
    "\n",
    " - The concept of permutations will appear in the course. Since it is a complex task, it is totally valid to  get the inspiration from StackOverflow.   \n",
    " - It is not necessary to make the most efficient algorithm but try to understand the code and repeat the approach yourself. \n",
    " - Add the source and/or comment to your code for better understandability.\n",
    "\n",
    "\n",
    "```python\n",
    "print(permute([1, 2, 3])) # [[3, 2, 1], [2, 3, 1], [2, 1, 3], [3, 1, 2], [1, 3, 2], [1, 2, 3]]\n",
    "```"
   ]
  },
  {
   "cell_type": "code",
   "execution_count": 302,
   "metadata": {},
   "outputs": [
    {
     "data": {
      "text/plain": [
       "' \\nMy logic (developed by me and programmed with the help of chat gpt):\\nWe want to generate a matrix where:\\n- The number of columns is equal to the length of the input list `numbers_list` (let’s call it `n`)\\n- The number of rows is equal to `n!` (the total number of unique permutations of the list)\\n\\nEach row in the matrix is one unique permutation of the input list.\\nTo construct the matrix:\\n1. We iterate column-by-column.\\n2. Each column must contain each number from the list exactly (n-1) times.\\n3. When placing a number in a column:\\n    - It must **not already appear** in the same row.\\n    - After placing, the resulting row (even if partially filled) must **not duplicate** any other row in the matrix.\\n4. We continue placing values until:\\n    - All rows are filled without any `None`\\n    - All rows are unique\\n    - All placement rules are respected\\n'"
      ]
     },
     "execution_count": 302,
     "metadata": {},
     "output_type": "execute_result"
    },
    {
     "name": "stdout",
     "output_type": "stream",
     "text": [
      "Row 0: [1, 2, 3, 4]\n",
      "Row 1: [1, 2, 4, 3]\n",
      "Row 2: [1, 3, 2, 4]\n",
      "Row 3: [1, 3, 4, 2]\n",
      "Row 4: [1, 4, 2, 3]\n",
      "Row 5: [1, 4, 3, 2]\n",
      "Row 6: [2, 1, 3, 4]\n",
      "Row 7: [2, 1, 4, 3]\n",
      "Row 8: [2, 3, 1, 4]\n",
      "Row 9: [2, 3, 4, 1]\n",
      "Row 10: [2, 4, 1, 3]\n",
      "Row 11: [2, 4, 3, 1]\n",
      "Row 12: [3, 1, 2, 4]\n",
      "Row 13: [3, 1, 4, 2]\n",
      "Row 14: [3, 2, 1, 4]\n",
      "Row 15: [3, 2, 4, 1]\n",
      "Row 16: [3, 4, 1, 2]\n",
      "Row 17: [3, 4, 2, 1]\n",
      "Row 18: [4, 1, 2, 3]\n",
      "Row 19: [4, 1, 3, 2]\n",
      "Row 20: [4, 2, 1, 3]\n",
      "Row 21: [4, 2, 3, 1]\n",
      "Row 22: [4, 3, 1, 2]\n",
      "Row 23: [4, 3, 2, 1]\n"
     ]
    }
   ],
   "source": [
    "\n",
    "\"\"\" \n",
    "My logic (developed by me and programmed with the help of chat gpt):\n",
    "We want to generate a matrix where:\n",
    "- The number of columns is equal to the length of the input list `numbers_list` (let’s call it `n`)\n",
    "- The number of rows is equal to `n!` (the total number of unique permutations of the list)\n",
    "\n",
    "Each row in the matrix is one unique permutation of the input list.\n",
    "To construct the matrix:\n",
    "1. We iterate column-by-column.\n",
    "2. Each column must contain each number from the list exactly (n-1) times.\n",
    "3. When placing a number in a column:\n",
    "    - It must **not already appear** in the same row.\n",
    "    - After placing, the resulting row (even if partially filled) must **not duplicate** any other row in the matrix.\n",
    "4. We continue placing values until:\n",
    "    - All rows are filled without any `None`\n",
    "    - All rows are unique\n",
    "    - All placement rules are respected\n",
    "\"\"\"\n",
    "import math\n",
    "\n",
    "def generate_permutation_matrix(numbers_list):\n",
    "    n = len(numbers_list)\n",
    "    rows = math.factorial(n)\n",
    "    cols = n\n",
    "\n",
    "    matrix = [[None for _ in range(cols)] for _ in range(rows)]\n",
    "    used_rows = set()\n",
    "\n",
    "    def is_valid_to_place(row, col, num):\n",
    "        if num in matrix[row]:\n",
    "            return False\n",
    "        simulated_row = list(matrix[row])\n",
    "        simulated_row[col] = num\n",
    "        return tuple(simulated_row) not in used_rows\n",
    "\n",
    "    def fill_column(col):\n",
    "        if col >= cols:\n",
    "            return True\n",
    "        usage_count = {num: 0 for num in numbers_list}\n",
    "        while any(usage_count[num] < n for num in numbers_list):\n",
    "            for num in numbers_list:\n",
    "                if usage_count[num] >= n:\n",
    "                    continue\n",
    "                placed = False\n",
    "                for r in range(rows):\n",
    "                    if matrix[r][col] is None and is_valid_to_place(r, col, num):\n",
    "                        matrix[r][col] = num\n",
    "                        usage_count[num] += 1\n",
    "                        simulated = list(matrix[r])\n",
    "                        simulated[col] = num\n",
    "                        used_rows.add(tuple(simulated))\n",
    "                        placed = True\n",
    "                        break\n",
    "                if not placed:\n",
    "                    return False\n",
    "        return fill_column(col + 1)\n",
    "\n",
    "    # Generate first column by enumerating all permutations manually\n",
    "    count = 0\n",
    "    def build_first_column(partial, remaining):\n",
    "        nonlocal count\n",
    "        if not remaining:\n",
    "            matrix[count] = partial\n",
    "            used_rows.add(tuple(partial))\n",
    "            count += 1\n",
    "            return\n",
    "        for i in range(len(remaining)):\n",
    "            build_first_column(partial + [remaining[i]], remaining[:i] + remaining[i+1:])\n",
    "    \n",
    "    build_first_column([], numbers_list)\n",
    "    fill_column(1)\n",
    "\n",
    "    return matrix\n",
    "\n",
    "# Example usage\n",
    "numbers = [1, 2, 3,4]\n",
    "matrix = generate_permutation_matrix(numbers)\n",
    "\n",
    "for idx, row in enumerate(matrix):\n",
    "    print(f\"Row {idx}: {row}\")\n",
    "\n",
    "\n"
   ]
  },
  {
   "cell_type": "code",
   "execution_count": 310,
   "metadata": {},
   "outputs": [
    {
     "name": "stdout",
     "output_type": "stream",
     "text": [
      "[1, 2] 3\n",
      "[1] 2\n",
      "[1, 3] 2\n",
      "[1] 3\n",
      "[] 1\n",
      "[2, 1] 3\n",
      "[2] 1\n",
      "[2, 3] 1\n",
      "[2] 3\n",
      "[] 2\n",
      "[3, 1] 2\n",
      "[3] 1\n",
      "[3, 2] 1\n",
      "[3] 2\n",
      "[] 3\n",
      "Row 0: [1, 2, 3]\n",
      "Row 1: [1, 3, 2]\n",
      "Row 2: [2, 1, 3]\n",
      "Row 3: [2, 3, 1]\n",
      "Row 4: [3, 1, 2]\n",
      "Row 5: [3, 2, 1]\n"
     ]
    }
   ],
   "source": [
    "\"other solution from opensource:\"\n",
    "\n",
    "def custom_permutations(nums):\n",
    "    result = []\n",
    "\n",
    "    def backtrack(path):\n",
    "        if len(path) == len(nums):\n",
    "            result.append(path[:])\n",
    "            return\n",
    "\n",
    "        for num in nums:\n",
    "            if num not in path:\n",
    "                path.append(num)   \n",
    "                backtrack(path)\n",
    "                path.pop()  \n",
    "                print(path, num)\n",
    "    backtrack([])\n",
    "    return result\n",
    "\n",
    "# Try it\n",
    "nums = [1, 2, 3]\n",
    "perms = custom_permutations(nums)\n",
    "\n",
    "for i, p in enumerate(perms):\n",
    "    print(f\"Row {i}: {p}\")"
   ]
  }
 ],
 "metadata": {
  "kernelspec": {
   "display_name": ".venv",
   "language": "python",
   "name": "python3"
  },
  "language_info": {
   "codemirror_mode": {
    "name": "ipython",
    "version": 3
   },
   "file_extension": ".py",
   "mimetype": "text/x-python",
   "name": "python",
   "nbconvert_exporter": "python",
   "pygments_lexer": "ipython3",
   "version": "3.9.6"
  }
 },
 "nbformat": 4,
 "nbformat_minor": 4
}
