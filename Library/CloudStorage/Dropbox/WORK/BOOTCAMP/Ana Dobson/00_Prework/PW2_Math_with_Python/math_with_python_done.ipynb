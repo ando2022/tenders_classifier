{
 "cells": [
  {
   "cell_type": "markdown",
   "metadata": {},
   "source": [
    "<center><img src=https://lh3.googleusercontent.com/d/1EmH3Jks5CpJy0zK3JbkvJZkeqWtVcxhB width=600></center>\n",
    "\n",
    "# Math with Python\n",
    "\n",
    "Let's use Python to solve some math questions."
   ]
  },
  {
   "cell_type": "markdown",
   "metadata": {},
   "source": [
    "## Exercise 1\n",
    "\n",
    "Create a null vector of size 10. (Hint: use numpy)"
   ]
  },
  {
   "cell_type": "code",
   "execution_count": 3,
   "metadata": {},
   "outputs": [
    {
     "name": "stdout",
     "output_type": "stream",
     "text": [
      "[0 0 0 0 0 0 0 0 0 0]\n"
     ]
    }
   ],
   "source": [
    "import numpy as np\n",
    "vector = np.array([0]*10)\n",
    "print(vector)"
   ]
  },
  {
   "cell_type": "markdown",
   "metadata": {},
   "source": [
    "## Exercise 2\n",
    "\n",
    "Create a null vector of size 10 and set the fifth value to be 1."
   ]
  },
  {
   "cell_type": "code",
   "execution_count": 5,
   "metadata": {},
   "outputs": [
    {
     "name": "stdout",
     "output_type": "stream",
     "text": [
      "[0 0 0 0 1 0 0 0 0 0]\n"
     ]
    }
   ],
   "source": [
    "import numpy as np\n",
    "vector = np.array([0]*10)\n",
    "vector[4]=1\n",
    "print(vector)"
   ]
  },
  {
   "cell_type": "markdown",
   "metadata": {},
   "source": [
    "## Exercise 3\n",
    "\n",
    "Create a 8x8 matrix and fill it with a checkerboard pattern (1 and 0 in alternating order)."
   ]
  },
  {
   "cell_type": "code",
   "execution_count": 8,
   "metadata": {},
   "outputs": [
    {
     "name": "stdout",
     "output_type": "stream",
     "text": [
      "[[0, 1, 0, 1, 0, 1, 0, 1, 0, 1, 0, 1, 0, 1, 0, 1], [0, 1, 0, 1, 0, 1, 0, 1, 0, 1, 0, 1, 0, 1, 0, 1], [0, 1, 0, 1, 0, 1, 0, 1, 0, 1, 0, 1, 0, 1, 0, 1], [0, 1, 0, 1, 0, 1, 0, 1, 0, 1, 0, 1, 0, 1, 0, 1], [0, 1, 0, 1, 0, 1, 0, 1, 0, 1, 0, 1, 0, 1, 0, 1], [0, 1, 0, 1, 0, 1, 0, 1, 0, 1, 0, 1, 0, 1, 0, 1], [0, 1, 0, 1, 0, 1, 0, 1, 0, 1, 0, 1, 0, 1, 0, 1], [0, 1, 0, 1, 0, 1, 0, 1, 0, 1, 0, 1, 0, 1, 0, 1]]\n"
     ]
    }
   ],
   "source": [
    "matrix = [[value for _ in range(8) for value in (0,1) ] for _ in range(8) ]\n",
    "print(matrix)"
   ]
  },
  {
   "cell_type": "markdown",
   "metadata": {},
   "source": [
    "## Exercise 4\n",
    "\n",
    "Create a $5x5$ random matrix and normalize each column."
   ]
  },
  {
   "cell_type": "code",
   "execution_count": 24,
   "metadata": {},
   "outputs": [
    {
     "name": "stdout",
     "output_type": "stream",
     "text": [
      "[[0.14260533 0.63654849 0.69061094 0.88611794 0.46045809]\n",
      " [0.         0.89823143 1.         0.         0.        ]\n",
      " [0.46744738 0.75605175 0.39112214 1.         0.45543115]\n",
      " [0.78800256 1.         0.         0.075355   1.        ]\n",
      " [1.         0.         0.98106765 0.76019118 0.35664246]]\n"
     ]
    }
   ],
   "source": [
    "import random\n",
    "import numpy as np\n",
    "matrix = [[random.random() for _ in range(5) ] for _ in range(5) ]\n",
    "# Normalize each column to range [0, 1]\n",
    "min_vals = np.array(matrix).min(axis=0)\n",
    "max_vals = np.array(matrix).max(axis=0)\n",
    "\n",
    "normalized_data = (matrix - min_vals) / (max_vals - min_vals)\n",
    "print(normalized_data)\n",
    "\n",
    "\n"
   ]
  },
  {
   "cell_type": "markdown",
   "metadata": {},
   "source": [
    "## Exercise 5\n",
    "\n",
    "Multiply a $5x3$ matrix by a $3x2$ matrix (dot product)."
   ]
  },
  {
   "cell_type": "code",
   "execution_count": 86,
   "metadata": {},
   "outputs": [
    {
     "name": "stdout",
     "output_type": "stream",
     "text": [
      "[[2 2 0]\n",
      " [1 1 0]\n",
      " [1 2 1]\n",
      " [0 2 0]\n",
      " [0 0 1]]\n",
      "[[0 2]\n",
      " [1 0]\n",
      " [1 0]]\n",
      "dotproduct(A,B) [[2. 4.]\n",
      " [1. 2.]\n",
      " [3. 2.]\n",
      " [2. 0.]\n",
      " [1. 0.]]\n"
     ]
    }
   ],
   "source": [
    "import random\n",
    "import numpy as np\n",
    "A = np.random.randint(0, 3, size=(5, 3))\n",
    "\n",
    "# Generate a 3x2 matrix with integers from 0 to 9\n",
    "B = np.random.randint(0, 3, size=(3, 2))\n",
    "\n",
    "def dotproduct(A,B):\n",
    "    data = []\n",
    "    for i in range(A.shape[0]):  \n",
    "        for j in range(B.shape[1]):  # number of columns\n",
    "            dotpr = []\n",
    "            for num1, a in enumerate (A[i]):\n",
    "                for num2, b in enumerate ( B[:,j]):\n",
    "                    if num1==num2:\n",
    "                        c = a*b\n",
    "                        dotpr.append(c)\n",
    "            data.append((i,j, sum(dotpr )))\n",
    "    max_row = max(i for i, j, v in data)\n",
    "    max_col = max(j for i, j, v in data)\n",
    "    matrix = np.zeros((max_row + 1, max_col + 1))\n",
    "    for row, col, val in data:\n",
    "        matrix[row, col] = val\n",
    "    return matrix\n",
    "    \n",
    "print(A)\n",
    "print(B)\n",
    "print(\"dotproduct(A,B)\", dotproduct(A,B))                     \n",
    "            "
   ]
  },
  {
   "cell_type": "markdown",
   "metadata": {},
   "source": [
    "## Exercise 6\n",
    "\n",
    "Find out if the vector represented by $(−16, 3, 5)$  is orthogonal to $a = (1, −3, 5)$ and $b = (2, −1, 7)$.\n",
    "\n",
    "\n"
   ]
  },
  {
   "cell_type": "code",
   "execution_count": 89,
   "metadata": {},
   "outputs": [
    {
     "name": "stdout",
     "output_type": "stream",
     "text": [
      "v ⋅ a = 0\n",
      "v ⋅ b = 0\n",
      "The vector v is orthogonal to both a and b.\n"
     ]
    }
   ],
   "source": [
    "import numpy as np\n",
    "\n",
    "v = np.array([-16, 3, 5])\n",
    "a = np.array([1, -3, 5])\n",
    "b = np.array([2, -1, 7])\n",
    "\n",
    "dot_va = np.dot(v, a)\n",
    "dot_vb = np.dot(v, b)\n",
    "\n",
    "print(f\"v ⋅ a = {dot_va}\")\n",
    "print(f\"v ⋅ b = {dot_vb}\")\n",
    "\n",
    "\n",
    "if dot_va == 0 and dot_vb == 0:\n",
    "    print(\"The vector v is orthogonal to both a and b.\")\n"
   ]
  },
  {
   "cell_type": "markdown",
   "metadata": {},
   "source": [
    "## Exercise 7\n",
    "\n",
    "Create the matrix $$\\begin{bmatrix} 1 & 5 & 2 \\\\ 2 & 3 & -1 \\\\ 0 & 1 & -5 \\end{bmatrix}$$\n",
    "\n",
    "and compute its determinant and inverse. (use numpy function)"
   ]
  },
  {
   "cell_type": "code",
   "execution_count": 91,
   "metadata": {},
   "outputs": [
    {
     "name": "stdout",
     "output_type": "stream",
     "text": [
      "Determinant: 40.000000000000014\n",
      "Inverse matrix:\n",
      " [[-0.35   0.675 -0.275]\n",
      " [ 0.25  -0.125  0.125]\n",
      " [ 0.05  -0.025 -0.175]]\n"
     ]
    }
   ],
   "source": [
    "import numpy as np\n",
    "A = np.array([\n",
    "    [1, 5, 2],\n",
    "    [2, 3, -1],\n",
    "    [0, 1, -5]\n",
    "])\n",
    "\n",
    "det = np.linalg.det(A)\n",
    "\n",
    "if det != 0:\n",
    "    inv = np.linalg.inv(A)\n",
    "    print(\"Determinant:\", det)\n",
    "    print(\"Inverse matrix:\\n\", inv)"
   ]
  },
  {
   "cell_type": "markdown",
   "metadata": {},
   "source": [
    "## Exercise 8\n",
    "\n",
    "Given the two equations below, solve for $x_{1}$ and $x_{2}$ \n",
    "\n",
    "$x_{1} + 3x_{2} = 2$\n",
    "\n",
    "$x_{1} + 2x_{2} = 0$\n",
    "\n",
    "(Hint: Remember $AX = B$, use the linalg function from numpy)\n",
    "\n",
    "\n"
   ]
  },
  {
   "cell_type": "code",
   "execution_count": 92,
   "metadata": {},
   "outputs": [
    {
     "name": "stdout",
     "output_type": "stream",
     "text": [
      "Solution:\n",
      "x1 = -4.0\n",
      "x2 = 2.0\n"
     ]
    }
   ],
   "source": [
    "import numpy as np\n",
    "\n",
    "A = np.array([[1, 3],\n",
    "              [1, 2]])\n",
    "\n",
    "B = np.array([2, 0])\n",
    "\n",
    "X = np.linalg.solve(A, B)\n",
    "\n",
    "print(\"Solution:\")\n",
    "print(f\"x1 = {X[0]}\")\n",
    "print(f\"x2 = {X[1]}\")"
   ]
  },
  {
   "cell_type": "markdown",
   "metadata": {},
   "source": [
    "## Exercise 9\n",
    "\n",
    "Find the critical points of the function $f(x)= x^3−2x^2+x$ and use the second derivative test to find the maximum on interval $x⊂[0,1]$. \n",
    "\n",
    "**Hint 1**: remember the concepts of first differentiation and second differentiation;\n",
    "\n",
    "**Hint 2**: `sympy` python library with use of `solve`, `diff`."
   ]
  },
  {
   "cell_type": "code",
   "execution_count": 96,
   "metadata": {},
   "outputs": [
    {
     "name": "stdout",
     "output_type": "stream",
     "text": [
      "First derivative: 3*x**2 - 4*x + 1\n",
      "Critical points: [1/3, 1]\n",
      "Second derivative: 6*x - 4\n",
      "At x = 1/3, f''(x) = -2 → Maximum\n",
      "At x = 1, f''(x) = 2 → Minimum\n",
      "f(0) = 0, f(1) = 0\n"
     ]
    }
   ],
   "source": [
    "#!pip install sympy\n",
    "import sympy as sp\n",
    "\n",
    "x = sp.symbols('x')\n",
    "f = x**3 - 2*x**2 + x\n",
    "\n",
    "f_prime = sp.diff(f, x)\n",
    "print(\"First derivative:\", f_prime)\n",
    "\n",
    "critical_points = sp.solve(f_prime, x)\n",
    "print(\"Critical points:\", critical_points)\n",
    "\n",
    "f_double_prime = sp.diff(f_prime, x)\n",
    "print(\"Second derivative:\", f_double_prime)\n",
    "\n",
    "\n",
    "for point in critical_points:\n",
    "    if 0 <= point <= 1:\n",
    "        second_derivative_value = f_double_prime.subs(x, point)\n",
    "        nature = \"Minimum\" if second_derivative_value > 0 else \"Maximum\" if second_derivative_value < 0 else \"Inconclusive\"\n",
    "        print(f\"At x = {point}, f''(x) = {second_derivative_value} → {nature}\")\n",
    "\n",
    "# Evaluate endpoints as well\n",
    "f_at_0 = f.subs(x, 0)\n",
    "f_at_1 = f.subs(x, 1)\n",
    "print(f\"f(0) = {f_at_0}, f(1) = {f_at_1}\")"
   ]
  },
  {
   "cell_type": "markdown",
   "metadata": {},
   "source": []
  },
  {
   "cell_type": "markdown",
   "metadata": {},
   "source": [
    "## Exercise 10\n",
    "\n",
    "Maximise $f(x, y, z) = xy + yz$, subject to the constraints $x + 2y = 6$ and $x − 3z = 0$. \n",
    "\n",
    "**Hint 1**: set up the Lagrange equation, $f (x, y, z) − λ(constraint1) − μ(constraint2)$; \n",
    "\n",
    "**Hint 2**: Set partial derivatives to zero and solve the following set of equations; \n",
    "\n",
    "**Hint 3**: Use `solve`. "
   ]
  },
  {
   "cell_type": "code",
   "execution_count": 100,
   "metadata": {},
   "outputs": [
    {
     "name": "stdout",
     "output_type": "stream",
     "text": [
      "[{x: 3, y: 3/2, z: 1, λ: 2, μ: -1/2}]\n",
      "6\n"
     ]
    }
   ],
   "source": [
    "#!pip install sympy\n",
    "import sympy as sp\n",
    "x, y, z, λ, μ = sp.symbols('x y z λ μ')\n",
    "f = x*y + y*z\n",
    "\n",
    "constraint1 = x + 2*y - 6\n",
    "constraint2 = x - 3*z\n",
    "\n",
    "# Lagrangian\n",
    "L = f - λ * constraint1 - μ * constraint2\n",
    "\n",
    "gradients = [\n",
    "    sp.diff(L, var) for var in (x, y, z, λ, μ)\n",
    "]\n",
    "\n",
    "# Solve system of equations\n",
    "solution = sp.solve(gradients, (x, y, z, λ, μ), dict=True)\n",
    "print(solution)\n",
    "# Evaluate function at optimal point\n",
    "f_val = f.subs(solution[0])\n",
    "print(f_val)\n",
    "\n",
    "\n",
    "\"\"\"The point (x, y, z) that we found:\n",
    "\t•\tIs the best combination of variables\n",
    "\t•\tThat respects the limits\n",
    "\t•\tWhile giving us the highest possible result for our goal\n",
    "\n",
    "\"\"\""
   ]
  }
 ],
 "metadata": {
  "kernelspec": {
   "display_name": "Python 3",
   "language": "python",
   "name": "python3"
  },
  "language_info": {
   "codemirror_mode": {
    "name": "ipython",
    "version": 3
   },
   "file_extension": ".py",
   "mimetype": "text/x-python",
   "name": "python",
   "nbconvert_exporter": "python",
   "pygments_lexer": "ipython3",
   "version": "3.10.13"
  },
  "pycharm": {
   "stem_cell": {
    "cell_type": "raw",
    "metadata": {
     "collapsed": false
    },
    "source": []
   }
  }
 },
 "nbformat": 4,
 "nbformat_minor": 4
}
