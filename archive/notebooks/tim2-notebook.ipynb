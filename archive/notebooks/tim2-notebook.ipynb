{
 "cells": [
  {
   "cell_type": "code",
   "execution_count": 2,
   "id": "d42e1763",
   "metadata": {},
   "outputs": [
    {
     "data": {
      "text/plain": [
       "{'pages': 1,\n",
       " 'total': 2,\n",
       " 'publication': [{'id': 1016039,\n",
       "   'projectid': 169744,\n",
       "   'publicationDate': '2018-04-12',\n",
       "   'lang': 'DE',\n",
       "   'deadline': '2018-05-22',\n",
       "   'type': 'OB01',\n",
       "   'contType': 'SERVICES',\n",
       "   'proc': 'OPEN',\n",
       "   'description': 'Regulierungsfolgenabschätzung zum Umsatzschwellenwert für die Eintragungspflicht in das Handelsregister - \\nAnalyse der volkswirtschaftlichen Auswirkungen',\n",
       "   'authName': 'Bundesamt für Justiz BJ, Eidgenössisches Amt für das Handelsregister\\nund \\nStaatssekretariat für Wirtschaft SECO, Ressort Regulierungsanalyse und –politik',\n",
       "   'contLoc': 'Bern',\n",
       "   'cpv': '79419000, 79311400, 79300000',\n",
       "   'bkp': None,\n",
       "   'lot': []},\n",
       "  {'id': 1031595,\n",
       "   'projectid': 169744,\n",
       "   'publicationDate': '2018-07-31',\n",
       "   'lang': 'DE',\n",
       "   'deadline': None,\n",
       "   'type': 'OB02',\n",
       "   'contType': 'SERVICES',\n",
       "   'proc': 'OPEN',\n",
       "   'description': 'Regulierungsfolgenabschätzung zum Umsatzschwellenwert für die Eintragungspflicht in das Handelsregister - \\nAnalyse der volkswirtschaftlichen Auswirkungen',\n",
       "   'authName': 'Bundesamt für Justiz BJ, Eidgenössisches Amt für das Handelsregister\\nund \\nStaatssekretariat für Wirtschaft SECO, Ressort Regulierungsanalyse und –politik',\n",
       "   'contLoc': None,\n",
       "   'cpv': '79419000, 79311400, 79300000',\n",
       "   'bkp': None,\n",
       "   'lot': []}]}"
      ]
     },
     "execution_count": 2,
     "metadata": {},
     "output_type": "execute_result"
    }
   ],
   "source": [
    "import requests\n",
    "\n",
    "url = \"https://archiv.simap.ch/api/search?pageNo=1&recordsPerPage=10&sort=DATUM&sortOrder=ASC\"\n",
    "\n",
    "headers = {\n",
    "    \"accept\": \"application/json\",\n",
    "    \"Content-Type\": \"application/json\"\n",
    "}\n",
    "\n",
    "data = {\n",
    "    \"keywords\": \"Regulierungsfolgenabschätzung zum Umsatzschwellenwert für die Eintragungspflicht in das Handelsregister\",\n",
    "    \"stat_tm_1\": \"2018-01-01\",  \n",
    "    \"stat_tm_2\": \"2018-12-31\",\n",
    "    \"cpv_ob\": \"72000000, 79300000\",\n",
    "}\n",
    "\n",
    "response = requests.post(url, headers=headers, json=data)\n",
    "\n",
    "response.json()"
   ]
  }
 ],
 "metadata": {
  "kernelspec": {
   "display_name": "time-app",
   "language": "python",
   "name": "python3"
  },
  "language_info": {
   "codemirror_mode": {
    "name": "ipython",
    "version": 3
   },
   "file_extension": ".py",
   "mimetype": "text/x-python",
   "name": "python",
   "nbconvert_exporter": "python",
   "pygments_lexer": "ipython3",
   "version": "3.11.13"
  }
 },
 "nbformat": 4,
 "nbformat_minor": 5
}
